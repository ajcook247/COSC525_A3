{
 "cells": [
  {
   "cell_type": "code",
   "execution_count": 26,
   "metadata": {},
   "outputs": [],
   "source": [
    "from tensorflow import keras\n",
    "from tensorflow.keras.models import Sequential\n",
    "from tensorflow.keras import layers\n",
    "import tensorflow as tf"
   ]
  },
  {
   "cell_type": "code",
   "execution_count": 41,
   "metadata": {},
   "outputs": [
    {
     "name": "stdout",
     "output_type": "stream",
     "text": [
      "Model: \"sequential_36\"\n",
      "_________________________________________________________________\n",
      "Layer (type)                 Output Shape              Param #   \n",
      "=================================================================\n",
      "flatten_12 (Flatten)         (None, 1024)              0         \n",
      "_________________________________________________________________\n",
      "dense_20 (Dense)             (None, 1024)              1049600   \n",
      "_________________________________________________________________\n",
      "dense_21 (Dense)             (None, 512)               524800    \n",
      "_________________________________________________________________\n",
      "dense_22 (Dense)             (None, 100)               51300     \n",
      "_________________________________________________________________\n",
      "dense_23 (Dense)             (None, 4)                 404       \n",
      "=================================================================\n",
      "Total params: 1,626,104\n",
      "Trainable params: 1,626,104\n",
      "Non-trainable params: 0\n",
      "_________________________________________________________________\n",
      "None\n"
     ]
    }
   ],
   "source": [
    "T1 = Sequential()\n",
    "\n",
    "T1.add(layers.Flatten(input_shape=(32,32)))\n",
    "T1.add(layers.Dense(units=1024, activation=\"tanh\"))\n",
    "T1.add(layers.Dense(units=512, activation=\"sigmoid\"))\n",
    "T1.add(layers.Dense(units=100, activation=\"softmax\"))\n",
    "\n",
    "# Race classifier\n",
    "T1.add(layers.Dense(units=4, activation=\"softmax\"))\n",
    "\n",
    "# Gender classifier\n",
    "#T1.add(layers.Dense(units=2, activation=\"softmax\"))\n",
    "\n",
    "# Age classifier\n",
    "#T1.add(layers.Dense(units=10, activation=\"softmax\"))\n",
    "\n",
    "print(T1.summary())"
   ]
  },
  {
   "cell_type": "code",
   "execution_count": 44,
   "metadata": {},
   "outputs": [
    {
     "name": "stdout",
     "output_type": "stream",
     "text": [
      "Model: \"sequential_39\"\n",
      "_________________________________________________________________\n",
      "Layer (type)                 Output Shape              Param #   \n",
      "=================================================================\n",
      "conv2d_24 (Conv2D)           (None, 32, 32, 40)        1040      \n",
      "_________________________________________________________________\n",
      "max_pooling2d_8 (MaxPooling2 (None, 16, 16, 40)        0         \n",
      "_________________________________________________________________\n",
      "flatten_15 (Flatten)         (None, 10240)             0         \n",
      "_________________________________________________________________\n",
      "dense_29 (Dense)             (None, 100)               1024100   \n",
      "_________________________________________________________________\n",
      "dense_30 (Dense)             (None, 10)                1010      \n",
      "=================================================================\n",
      "Total params: 1,026,150\n",
      "Trainable params: 1,026,150\n",
      "Non-trainable params: 0\n",
      "_________________________________________________________________\n",
      "None\n"
     ]
    }
   ],
   "source": [
    "T2 = Sequential()\n",
    "\n",
    "T2.add(layers.Conv2D(filters=40, kernel_size=(5,5), activation=\"relu\", strides=(1,1), padding=\"same\", input_shape=(32,32,1)))\n",
    "T2.add(layers.MaxPool2D(pool_size=(2,2)))\n",
    "T2.add(layers.Flatten())\n",
    "T2.add(layers.Dense(units=100, activation=\"relu\"))\n",
    "\n",
    "# Race classifier\n",
    "#T2.add(layers.Dense(units=4, activation=\"softmax\"))\n",
    "\n",
    "# Gender classifier\n",
    "#T2.add(layers.Dense(units=2, activation=\"softmax\"))\n",
    "\n",
    "# Age classifier\n",
    "T2.add(layers.Dense(units=10, activation=\"softmax\"))\n",
    "\n",
    "print(T2.summary())"
   ]
  },
  {
   "cell_type": "code",
   "execution_count": 4,
   "metadata": {},
   "outputs": [],
   "source": [
    "T3 = Sequential()\n",
    "\n",
    "# NEED TO CHOOSE PARAMS\n",
    "\n",
    "T2.add(layers.Conv2D(filters=40, kernel_size=(5,5), activation=\"relu\", strides=(1,1), padding=\"same\", input_shape=(32,32,1)))\n",
    "T2.add(layers.MaxPool2D(pool_size=(2,2)))\n",
    "T2.add(layers.Flatten())\n",
    "T2.add(layers.Dense(units=100, activation=\"relu\"))\n",
    "\n",
    "# Race classifier\n",
    "#T2.add(layers.Dense(units=4, activation=\"softmax\"))\n",
    "\n",
    "# Gender classifier\n",
    "#T2.add(layers.Dense(units=2, activation=\"softmax\"))\n",
    "\n",
    "# Age classifier\n",
    "T2.add(layers.Dense(units=10, activation=\"softmax\"))"
   ]
  },
  {
   "cell_type": "code",
   "execution_count": 5,
   "metadata": {},
   "outputs": [],
   "source": [
    "T4 = Sequential()"
   ]
  },
  {
   "cell_type": "code",
   "execution_count": 6,
   "metadata": {},
   "outputs": [],
   "source": [
    "T5 = Sequential()"
   ]
  },
  {
   "cell_type": "code",
   "execution_count": null,
   "metadata": {},
   "outputs": [],
   "source": []
  }
 ],
 "metadata": {
  "kernelspec": {
   "display_name": "Python 3",
   "language": "python",
   "name": "python3"
  },
  "language_info": {
   "codemirror_mode": {
    "name": "ipython",
    "version": 3
   },
   "file_extension": ".py",
   "mimetype": "text/x-python",
   "name": "python",
   "nbconvert_exporter": "python",
   "pygments_lexer": "ipython3",
   "version": "3.8.5"
  }
 },
 "nbformat": 4,
 "nbformat_minor": 4
}
