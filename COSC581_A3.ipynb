{
 "cells": [
  {
   "cell_type": "code",
   "execution_count": 13,
   "metadata": {},
   "outputs": [],
   "source": [
    "from tensorflow import keras\n",
    "from tensorflow.keras.models import Sequential\n",
    "from tensorflow.keras import layers\n",
    "import tensorflow as tf\n",
    "import pandas as pd\n",
    "from sklearn.preprocessing import MinMaxScaler\n",
    "from tensorflow.keras import backend as K"
   ]
  },
  {
   "cell_type": "code",
   "execution_count": 7,
   "metadata": {},
   "outputs": [],
   "source": [
    "#data = pandas.read_csv(\"..\")"
   ]
  },
  {
   "cell_type": "code",
   "execution_count": 2,
   "metadata": {},
   "outputs": [
    {
     "name": "stdout",
     "output_type": "stream",
     "text": [
      "Model: \"sequential\"\n",
      "_________________________________________________________________\n",
      "Layer (type)                 Output Shape              Param #   \n",
      "=================================================================\n",
      "flatten (Flatten)            (None, 1024)              0         \n",
      "_________________________________________________________________\n",
      "dense (Dense)                (None, 1024)              1049600   \n",
      "_________________________________________________________________\n",
      "dense_1 (Dense)              (None, 512)               524800    \n",
      "_________________________________________________________________\n",
      "dense_2 (Dense)              (None, 100)               51300     \n",
      "_________________________________________________________________\n",
      "dense_3 (Dense)              (None, 4)                 404       \n",
      "=================================================================\n",
      "Total params: 1,626,104\n",
      "Trainable params: 1,626,104\n",
      "Non-trainable params: 0\n",
      "_________________________________________________________________\n",
      "None\n"
     ]
    }
   ],
   "source": [
    "# Fully Connected Network\n",
    "T1 = Sequential()\n",
    "\n",
    "T1.add(layers.Flatten(input_shape=(32,32)))\n",
    "T1.add(layers.Dense(units=1024, activation=\"tanh\"))\n",
    "T1.add(layers.Dense(units=512, activation=\"sigmoid\"))\n",
    "T1.add(layers.Dense(units=100, activation=\"softmax\"))\n",
    "\n",
    "# Race classifier\n",
    "T1.add(layers.Dense(units=4, activation=\"softmax\"))\n",
    "\n",
    "# Gender classifier\n",
    "#T1.add(layers.Dense(units=2, activation=\"softmax\"))\n",
    "\n",
    "# Age classifier\n",
    "#T1.add(layers.Dense(units=10, activation=\"softmax\"))\n",
    "\n",
    "print(T1.summary())"
   ]
  },
  {
   "cell_type": "code",
   "execution_count": 3,
   "metadata": {},
   "outputs": [
    {
     "name": "stdout",
     "output_type": "stream",
     "text": [
      "Model: \"sequential_1\"\n",
      "_________________________________________________________________\n",
      "Layer (type)                 Output Shape              Param #   \n",
      "=================================================================\n",
      "conv2d (Conv2D)              (None, 32, 32, 40)        1040      \n",
      "_________________________________________________________________\n",
      "max_pooling2d (MaxPooling2D) (None, 16, 16, 40)        0         \n",
      "_________________________________________________________________\n",
      "flatten_1 (Flatten)          (None, 10240)             0         \n",
      "_________________________________________________________________\n",
      "dense_4 (Dense)              (None, 100)               1024100   \n",
      "_________________________________________________________________\n",
      "dense_5 (Dense)              (None, 10)                1010      \n",
      "=================================================================\n",
      "Total params: 1,026,150\n",
      "Trainable params: 1,026,150\n",
      "Non-trainable params: 0\n",
      "_________________________________________________________________\n",
      "None\n"
     ]
    }
   ],
   "source": [
    "# CNN\n",
    "T2 = Sequential()\n",
    "\n",
    "T2.add(layers.Conv2D(filters=40, kernel_size=(5,5), activation=\"relu\", strides=(1,1), padding=\"same\", input_shape=(32,32,1)))\n",
    "T2.add(layers.MaxPool2D(pool_size=(2,2)))\n",
    "T2.add(layers.Flatten())\n",
    "T2.add(layers.Dense(units=100, activation=\"relu\"))\n",
    "\n",
    "# Race classifier\n",
    "#T2.add(layers.Dense(units=4, activation=\"softmax\"))\n",
    "\n",
    "# Gender classifier\n",
    "#T2.add(layers.Dense(units=2, activation=\"softmax\"))\n",
    "\n",
    "# Age classifier\n",
    "T2.add(layers.Dense(units=10, activation=\"softmax\"))\n",
    "\n",
    "print(T2.summary())"
   ]
  },
  {
   "cell_type": "code",
   "execution_count": 7,
   "metadata": {},
   "outputs": [
    {
     "name": "stdout",
     "output_type": "stream",
     "text": [
      "Model: \"sequential_5\"\n",
      "_________________________________________________________________\n",
      "Layer (type)                 Output Shape              Param #   \n",
      "=================================================================\n",
      "conv2d_4 (Conv2D)            (None, 28, 28, 6)         156       \n",
      "_________________________________________________________________\n",
      "average_pooling2d_4 (Average (None, 14, 14, 6)         0         \n",
      "_________________________________________________________________\n",
      "conv2d_5 (Conv2D)            (None, 10, 10, 16)        2416      \n",
      "_________________________________________________________________\n",
      "average_pooling2d_5 (Average (None, 5, 5, 16)          0         \n",
      "_________________________________________________________________\n",
      "flatten_2 (Flatten)          (None, 400)               0         \n",
      "_________________________________________________________________\n",
      "dense_7 (Dense)              (None, 120)               48120     \n",
      "_________________________________________________________________\n",
      "dense_8 (Dense)              (None, 84)                10164     \n",
      "_________________________________________________________________\n",
      "dense_9 (Dense)              (None, 10)                850       \n",
      "_________________________________________________________________\n",
      "dense_10 (Dense)             (None, 10)                110       \n",
      "=================================================================\n",
      "Total params: 61,816\n",
      "Trainable params: 61,816\n",
      "Non-trainable params: 0\n",
      "_________________________________________________________________\n",
      "None\n"
     ]
    }
   ],
   "source": [
    "# Custom CNN - LeNet-5\n",
    "\n",
    "T3 = Sequential()\n",
    "\n",
    "# NEED TO CHOOSE PARAMS\n",
    "T3.add(layers.Conv2D(filters=6, kernel_size=(5,5), activation=\"sigmoid\", input_shape=(32,32,1)))\n",
    "T3.add(layers.AveragePooling2D(pool_size=(2,2)))\n",
    "T3.add(layers.Conv2D(filters=16, kernel_size=(5,5), activation=\"sigmoid\"))\n",
    "T3.add(layers.AveragePooling2D(pool_size=(2,2)))\n",
    "T3.add(layers.Flatten())\n",
    "T3.add(layers.Dense(units=120, activation=\"sigmoid\"))\n",
    "T3.add(layers.Dense(units=84, activation=\"sigmoid\"))\n",
    "T3.add(layers.Dense(units=10, activation=\"sigmoid\"))\n",
    "\n",
    "# Race classifier\n",
    "#T3.add(layers.Dense(units=4, activation=\"softmax\"))\n",
    "\n",
    "# Gender classifier\n",
    "#T3.add(layers.Dense(units=2, activation=\"softmax\"))\n",
    "\n",
    "# Age classifier\n",
    "T3.add(layers.Dense(units=10, activation=\"softmax\"))\n",
    "\n",
    "print(T3.summary())"
   ]
  },
  {
   "cell_type": "code",
   "execution_count": 5,
   "metadata": {},
   "outputs": [],
   "source": [
    "# Parallel CNN\n",
    "T4 = Sequential()"
   ]
  },
  {
   "cell_type": "code",
   "execution_count": 19,
   "metadata": {},
   "outputs": [
    {
     "name": "stdout",
     "output_type": "stream",
     "text": [
      "Model: \"functional_3\"\n",
      "__________________________________________________________________________________________________\n",
      "Layer (type)                    Output Shape         Param #     Connected to                     \n",
      "==================================================================================================\n",
      "input_14 (InputLayer)           [(None, 32, 32, 1)]  0                                            \n",
      "__________________________________________________________________________________________________\n",
      "conv2d_24 (Conv2D)              (None, 16, 16, 32)   320         input_14[0][0]                   \n",
      "__________________________________________________________________________________________________\n",
      "conv2d_25 (Conv2D)              (None, 8, 8, 64)     18496       conv2d_24[0][0]                  \n",
      "__________________________________________________________________________________________________\n",
      "dense_21 (Dense)                (None, 8, 8, 8)      520         conv2d_25[0][0]                  \n",
      "__________________________________________________________________________________________________\n",
      "dense_22 (Dense)                (None, 8, 8, 8)      520         conv2d_25[0][0]                  \n",
      "__________________________________________________________________________________________________\n",
      "lambda_10 (Lambda)              (None, 8, 8, 8)      0           dense_21[0][0]                   \n",
      "                                                                 dense_22[0][0]                   \n",
      "==================================================================================================\n",
      "Total params: 19,856\n",
      "Trainable params: 19,856\n",
      "Non-trainable params: 0\n",
      "__________________________________________________________________________________________________\n",
      "None\n"
     ]
    }
   ],
   "source": [
    "# VAE\n",
    "def sampling(args):\n",
    "    z_mean, z_log_var = args\n",
    "    batch = K.shape(z_mean)[0]\n",
    "    dim = K.int_shape(z_mean)[1]\n",
    "    \n",
    "    epsilon = K.random_normal(shape=(batch, dim))\n",
    "    return z_mean + K.exp(z_log_var) * epsilon\n",
    "\n",
    "latent_dim = 8 # NEEDS TO BE AT LEAST 5\n",
    "inputs = keras.Input(shape=(32,32,1))\n",
    "# FIX ENCODER LAYER PARAMS\n",
    "x = layers.Conv2D(32, 3, activation=\"relu\", strides=2, padding=\"same\")(inputs)\n",
    "x = layers.Conv2D(64, 3, activation=\"relu\", strides=2, padding=\"same\")(x)\n",
    "z_mean = layers.Dense(latent_dim)(x)\n",
    "z_log_var = layers.Dense(latent_dim)(x)\n",
    "z = layers.Lambda(sampling)([z_mean, z_log_var])\n",
    "\n",
    "encoder = keras.models.Model(inputs, [z_mean, z_log_var, z])\n",
    "print(encoder.summary())"
   ]
  },
  {
   "cell_type": "code",
   "execution_count": 23,
   "metadata": {},
   "outputs": [
    {
     "name": "stdout",
     "output_type": "stream",
     "text": [
      "Model: \"functional_5\"\n",
      "_________________________________________________________________\n",
      "Layer (type)                 Output Shape              Param #   \n",
      "=================================================================\n",
      "input_18 (InputLayer)        [(None, 8)]               0         \n",
      "_________________________________________________________________\n",
      "dense_25 (Dense)             (None, 4096)              36864     \n",
      "_________________________________________________________________\n",
      "reshape_2 (Reshape)          (None, 8, 8, 64)          0         \n",
      "_________________________________________________________________\n",
      "conv2d_transpose_3 (Conv2DTr (None, 16, 16, 64)        36928     \n",
      "_________________________________________________________________\n",
      "conv2d_transpose_4 (Conv2DTr (None, 32, 32, 32)        18464     \n",
      "_________________________________________________________________\n",
      "conv2d_transpose_5 (Conv2DTr (None, 32, 32, 1)         289       \n",
      "=================================================================\n",
      "Total params: 92,545\n",
      "Trainable params: 92,545\n",
      "Non-trainable params: 0\n",
      "_________________________________________________________________\n",
      "None\n"
     ]
    }
   ],
   "source": [
    "latent_inputs = keras.Input(shape=(latent_dim,))\n",
    "x = layers.Dense(8*8*64, activation=\"relu\")(latent_inputs)\n",
    "x = layers.Reshape((8,8,64))(x)\n",
    "x = layers.Conv2DTranspose(64, 3, activation=\"relu\", strides=2, padding=\"same\")(x)\n",
    "x = layers.Conv2DTranspose(32, 3, activation=\"relu\", strides=2, padding=\"same\")(x)\n",
    "decoder_outputs = layers.Conv2DTranspose(1, 3, activation=\"sigmoid\", padding=\"same\")(x)\n",
    "\n",
    "decoder = keras.models.Model(latent_inputs, decoder_outputs)\n",
    "print(decoder.summary())"
   ]
  },
  {
   "cell_type": "code",
   "execution_count": null,
   "metadata": {},
   "outputs": [],
   "source": []
  }
 ],
 "metadata": {
  "kernelspec": {
   "display_name": "Python 3",
   "language": "python",
   "name": "python3"
  },
  "language_info": {
   "codemirror_mode": {
    "name": "ipython",
    "version": 3
   },
   "file_extension": ".py",
   "mimetype": "text/x-python",
   "name": "python",
   "nbconvert_exporter": "python",
   "pygments_lexer": "ipython3",
   "version": "3.8.5"
  }
 },
 "nbformat": 4,
 "nbformat_minor": 4
}
